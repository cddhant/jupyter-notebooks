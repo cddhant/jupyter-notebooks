{
 "cells": [
  {
   "cell_type": "markdown",
   "metadata": {},
   "source": [
    "### <b> Bayes’ Theorem: P(a|b) = (P(b|a) * P(a)) / P(b) </b>"
   ]
  },
  {
   "cell_type": "markdown",
   "metadata": {},
   "source": [
    "To implement the Naive Bayes Classification, we will use Iris Flower Dataset.<br><br>\n",
    "It consists of 3 classes: iris-setosa, iris-versicolor and iris-virginica. <br><br>\n",
    "There are 4 independent variables: sepal_length, sepal_width, petal_length and petal_width. <br><br>\n",
    "The dependent variable is 'species' which we will predict using the four independent features of the flowers.<br><br>\n",
    "Using the various features of the flower(independent variables), we have to classify a given flower using Naive Bayes Classification model."
   ]
  },
  {
   "cell_type": "markdown",
   "metadata": {},
   "source": [
    "### <b>Step 1: Importing Libraries and Dataset"
   ]
  },
  {
   "cell_type": "code",
   "execution_count": 1,
   "metadata": {},
   "outputs": [],
   "source": [
    "import pandas as pd\n",
    "import numpy as np\n",
    "import matplotlib.pyplot as plt\n",
    "import seaborn as sns\n",
    "%matplotlib inline"
   ]
  },
  {
   "cell_type": "code",
   "execution_count": 2,
   "metadata": {},
   "outputs": [
    {
     "data": {
      "text/html": [
       "<div>\n",
       "<style scoped>\n",
       "    .dataframe tbody tr th:only-of-type {\n",
       "        vertical-align: middle;\n",
       "    }\n",
       "\n",
       "    .dataframe tbody tr th {\n",
       "        vertical-align: top;\n",
       "    }\n",
       "\n",
       "    .dataframe thead th {\n",
       "        text-align: right;\n",
       "    }\n",
       "</style>\n",
       "<table border=\"1\" class=\"dataframe\">\n",
       "  <thead>\n",
       "    <tr style=\"text-align: right;\">\n",
       "      <th></th>\n",
       "      <th>Id</th>\n",
       "      <th>SepalLengthCm</th>\n",
       "      <th>SepalWidthCm</th>\n",
       "      <th>PetalLengthCm</th>\n",
       "      <th>PetalWidthCm</th>\n",
       "      <th>Species</th>\n",
       "    </tr>\n",
       "  </thead>\n",
       "  <tbody>\n",
       "    <tr>\n",
       "      <th>0</th>\n",
       "      <td>1</td>\n",
       "      <td>5.1</td>\n",
       "      <td>3.5</td>\n",
       "      <td>1.4</td>\n",
       "      <td>0.2</td>\n",
       "      <td>Iris-setosa</td>\n",
       "    </tr>\n",
       "    <tr>\n",
       "      <th>1</th>\n",
       "      <td>2</td>\n",
       "      <td>4.9</td>\n",
       "      <td>3.0</td>\n",
       "      <td>1.4</td>\n",
       "      <td>0.2</td>\n",
       "      <td>Iris-setosa</td>\n",
       "    </tr>\n",
       "    <tr>\n",
       "      <th>2</th>\n",
       "      <td>3</td>\n",
       "      <td>4.7</td>\n",
       "      <td>3.2</td>\n",
       "      <td>1.3</td>\n",
       "      <td>0.2</td>\n",
       "      <td>Iris-setosa</td>\n",
       "    </tr>\n",
       "    <tr>\n",
       "      <th>3</th>\n",
       "      <td>4</td>\n",
       "      <td>4.6</td>\n",
       "      <td>3.1</td>\n",
       "      <td>1.5</td>\n",
       "      <td>0.2</td>\n",
       "      <td>Iris-setosa</td>\n",
       "    </tr>\n",
       "    <tr>\n",
       "      <th>4</th>\n",
       "      <td>5</td>\n",
       "      <td>5.0</td>\n",
       "      <td>3.6</td>\n",
       "      <td>1.4</td>\n",
       "      <td>0.2</td>\n",
       "      <td>Iris-setosa</td>\n",
       "    </tr>\n",
       "    <tr>\n",
       "      <th>...</th>\n",
       "      <td>...</td>\n",
       "      <td>...</td>\n",
       "      <td>...</td>\n",
       "      <td>...</td>\n",
       "      <td>...</td>\n",
       "      <td>...</td>\n",
       "    </tr>\n",
       "    <tr>\n",
       "      <th>145</th>\n",
       "      <td>146</td>\n",
       "      <td>6.7</td>\n",
       "      <td>3.0</td>\n",
       "      <td>5.2</td>\n",
       "      <td>2.3</td>\n",
       "      <td>Iris-virginica</td>\n",
       "    </tr>\n",
       "    <tr>\n",
       "      <th>146</th>\n",
       "      <td>147</td>\n",
       "      <td>6.3</td>\n",
       "      <td>2.5</td>\n",
       "      <td>5.0</td>\n",
       "      <td>1.9</td>\n",
       "      <td>Iris-virginica</td>\n",
       "    </tr>\n",
       "    <tr>\n",
       "      <th>147</th>\n",
       "      <td>148</td>\n",
       "      <td>6.5</td>\n",
       "      <td>3.0</td>\n",
       "      <td>5.2</td>\n",
       "      <td>2.0</td>\n",
       "      <td>Iris-virginica</td>\n",
       "    </tr>\n",
       "    <tr>\n",
       "      <th>148</th>\n",
       "      <td>149</td>\n",
       "      <td>6.2</td>\n",
       "      <td>3.4</td>\n",
       "      <td>5.4</td>\n",
       "      <td>2.3</td>\n",
       "      <td>Iris-virginica</td>\n",
       "    </tr>\n",
       "    <tr>\n",
       "      <th>149</th>\n",
       "      <td>150</td>\n",
       "      <td>5.9</td>\n",
       "      <td>3.0</td>\n",
       "      <td>5.1</td>\n",
       "      <td>1.8</td>\n",
       "      <td>Iris-virginica</td>\n",
       "    </tr>\n",
       "  </tbody>\n",
       "</table>\n",
       "<p>150 rows × 6 columns</p>\n",
       "</div>"
      ],
      "text/plain": [
       "      Id  SepalLengthCm  SepalWidthCm  PetalLengthCm  PetalWidthCm  \\\n",
       "0      1            5.1           3.5            1.4           0.2   \n",
       "1      2            4.9           3.0            1.4           0.2   \n",
       "2      3            4.7           3.2            1.3           0.2   \n",
       "3      4            4.6           3.1            1.5           0.2   \n",
       "4      5            5.0           3.6            1.4           0.2   \n",
       "..   ...            ...           ...            ...           ...   \n",
       "145  146            6.7           3.0            5.2           2.3   \n",
       "146  147            6.3           2.5            5.0           1.9   \n",
       "147  148            6.5           3.0            5.2           2.0   \n",
       "148  149            6.2           3.4            5.4           2.3   \n",
       "149  150            5.9           3.0            5.1           1.8   \n",
       "\n",
       "            Species  \n",
       "0       Iris-setosa  \n",
       "1       Iris-setosa  \n",
       "2       Iris-setosa  \n",
       "3       Iris-setosa  \n",
       "4       Iris-setosa  \n",
       "..              ...  \n",
       "145  Iris-virginica  \n",
       "146  Iris-virginica  \n",
       "147  Iris-virginica  \n",
       "148  Iris-virginica  \n",
       "149  Iris-virginica  \n",
       "\n",
       "[150 rows x 6 columns]"
      ]
     },
     "execution_count": 2,
     "metadata": {},
     "output_type": "execute_result"
    }
   ],
   "source": [
    "data = pd.read_csv('Datasets/Iris.csv')\n",
    "data"
   ]
  },
  {
   "cell_type": "markdown",
   "metadata": {},
   "source": [
    "### <b> Step 2: Data Preprocessing"
   ]
  },
  {
   "cell_type": "markdown",
   "metadata": {},
   "source": [
    "'ID' is an unwanted column. We will drop that column as it will cause issues in analysis process."
   ]
  },
  {
   "cell_type": "code",
   "execution_count": 3,
   "metadata": {},
   "outputs": [
    {
     "data": {
      "text/html": [
       "<div>\n",
       "<style scoped>\n",
       "    .dataframe tbody tr th:only-of-type {\n",
       "        vertical-align: middle;\n",
       "    }\n",
       "\n",
       "    .dataframe tbody tr th {\n",
       "        vertical-align: top;\n",
       "    }\n",
       "\n",
       "    .dataframe thead th {\n",
       "        text-align: right;\n",
       "    }\n",
       "</style>\n",
       "<table border=\"1\" class=\"dataframe\">\n",
       "  <thead>\n",
       "    <tr style=\"text-align: right;\">\n",
       "      <th></th>\n",
       "      <th>SepalLengthCm</th>\n",
       "      <th>SepalWidthCm</th>\n",
       "      <th>PetalLengthCm</th>\n",
       "      <th>PetalWidthCm</th>\n",
       "      <th>Species</th>\n",
       "    </tr>\n",
       "  </thead>\n",
       "  <tbody>\n",
       "    <tr>\n",
       "      <th>0</th>\n",
       "      <td>5.1</td>\n",
       "      <td>3.5</td>\n",
       "      <td>1.4</td>\n",
       "      <td>0.2</td>\n",
       "      <td>Iris-setosa</td>\n",
       "    </tr>\n",
       "    <tr>\n",
       "      <th>1</th>\n",
       "      <td>4.9</td>\n",
       "      <td>3.0</td>\n",
       "      <td>1.4</td>\n",
       "      <td>0.2</td>\n",
       "      <td>Iris-setosa</td>\n",
       "    </tr>\n",
       "    <tr>\n",
       "      <th>2</th>\n",
       "      <td>4.7</td>\n",
       "      <td>3.2</td>\n",
       "      <td>1.3</td>\n",
       "      <td>0.2</td>\n",
       "      <td>Iris-setosa</td>\n",
       "    </tr>\n",
       "    <tr>\n",
       "      <th>3</th>\n",
       "      <td>4.6</td>\n",
       "      <td>3.1</td>\n",
       "      <td>1.5</td>\n",
       "      <td>0.2</td>\n",
       "      <td>Iris-setosa</td>\n",
       "    </tr>\n",
       "    <tr>\n",
       "      <th>4</th>\n",
       "      <td>5.0</td>\n",
       "      <td>3.6</td>\n",
       "      <td>1.4</td>\n",
       "      <td>0.2</td>\n",
       "      <td>Iris-setosa</td>\n",
       "    </tr>\n",
       "    <tr>\n",
       "      <th>...</th>\n",
       "      <td>...</td>\n",
       "      <td>...</td>\n",
       "      <td>...</td>\n",
       "      <td>...</td>\n",
       "      <td>...</td>\n",
       "    </tr>\n",
       "    <tr>\n",
       "      <th>145</th>\n",
       "      <td>6.7</td>\n",
       "      <td>3.0</td>\n",
       "      <td>5.2</td>\n",
       "      <td>2.3</td>\n",
       "      <td>Iris-virginica</td>\n",
       "    </tr>\n",
       "    <tr>\n",
       "      <th>146</th>\n",
       "      <td>6.3</td>\n",
       "      <td>2.5</td>\n",
       "      <td>5.0</td>\n",
       "      <td>1.9</td>\n",
       "      <td>Iris-virginica</td>\n",
       "    </tr>\n",
       "    <tr>\n",
       "      <th>147</th>\n",
       "      <td>6.5</td>\n",
       "      <td>3.0</td>\n",
       "      <td>5.2</td>\n",
       "      <td>2.0</td>\n",
       "      <td>Iris-virginica</td>\n",
       "    </tr>\n",
       "    <tr>\n",
       "      <th>148</th>\n",
       "      <td>6.2</td>\n",
       "      <td>3.4</td>\n",
       "      <td>5.4</td>\n",
       "      <td>2.3</td>\n",
       "      <td>Iris-virginica</td>\n",
       "    </tr>\n",
       "    <tr>\n",
       "      <th>149</th>\n",
       "      <td>5.9</td>\n",
       "      <td>3.0</td>\n",
       "      <td>5.1</td>\n",
       "      <td>1.8</td>\n",
       "      <td>Iris-virginica</td>\n",
       "    </tr>\n",
       "  </tbody>\n",
       "</table>\n",
       "<p>150 rows × 5 columns</p>\n",
       "</div>"
      ],
      "text/plain": [
       "     SepalLengthCm  SepalWidthCm  PetalLengthCm  PetalWidthCm         Species\n",
       "0              5.1           3.5            1.4           0.2     Iris-setosa\n",
       "1              4.9           3.0            1.4           0.2     Iris-setosa\n",
       "2              4.7           3.2            1.3           0.2     Iris-setosa\n",
       "3              4.6           3.1            1.5           0.2     Iris-setosa\n",
       "4              5.0           3.6            1.4           0.2     Iris-setosa\n",
       "..             ...           ...            ...           ...             ...\n",
       "145            6.7           3.0            5.2           2.3  Iris-virginica\n",
       "146            6.3           2.5            5.0           1.9  Iris-virginica\n",
       "147            6.5           3.0            5.2           2.0  Iris-virginica\n",
       "148            6.2           3.4            5.4           2.3  Iris-virginica\n",
       "149            5.9           3.0            5.1           1.8  Iris-virginica\n",
       "\n",
       "[150 rows x 5 columns]"
      ]
     },
     "execution_count": 3,
     "metadata": {},
     "output_type": "execute_result"
    }
   ],
   "source": [
    "data = data.drop(['Id'], axis=1)\n",
    "data"
   ]
  },
  {
   "cell_type": "markdown",
   "metadata": {},
   "source": [
    "### <b> Step 2: Visualizing Correlation"
   ]
  },
  {
   "cell_type": "code",
   "execution_count": 4,
   "metadata": {},
   "outputs": [
    {
     "data": {
      "text/plain": [
       "<AxesSubplot:>"
      ]
     },
     "execution_count": 4,
     "metadata": {},
     "output_type": "execute_result"
    },
    {
     "data": {
      "image/png": "[encoded data removed]",
      "text/plain": [
       "<Figure size 864x576 with 2 Axes>"
      ]
     },
     "metadata": {
      "needs_background": "light"
     },
     "output_type": "display_data"
    }
   ],
   "source": [
    "# To plot the correlation matrix, we use the heatmap function from seaborn.\n",
    "# annot = True (for printing the values inside the square)\n",
    "plt.subplots(figsize=(12,8))\n",
    "sns.heatmap(data.corr(), annot=True)"
   ]
  },
  {
   "cell_type": "markdown",
   "metadata": {},
   "source": [
    "We can see that features are highly correlated. <br>\n",
    "But as per Naive's Bayes theorem, it will treat features as entirely indepedent to each other.<br>\n",
    "Based on this, our algorithm will compute probability for all the three flower classes. "
   ]
  },
  {
   "cell_type": "markdown",
   "metadata": {},
   "source": [
    "### <b> Step 4: Splitting the data"
   ]
  },
  {
   "cell_type": "markdown",
   "metadata": {},
   "source": [
    "Input data will have SepalLength, SepalWidth, PetalLength and PetalWidth columns. (Independent Variables)<br>\n",
    "Output data will only have Species column. (Dependent Variable)"
   ]
  },
  {
   "cell_type": "code",
   "execution_count": 5,
   "metadata": {},
   "outputs": [],
   "source": [
    "# Input data\n",
    "x = data.drop(['Species'], axis=1)\n",
    "\n",
    "# Output data\n",
    "y = data['Species']"
   ]
  },
  {
   "cell_type": "code",
   "execution_count": 6,
   "metadata": {},
   "outputs": [
    {
     "name": "stdout",
     "output_type": "stream",
     "text": [
      "     SepalLengthCm  SepalWidthCm  PetalLengthCm  PetalWidthCm\n",
      "0              5.1           3.5            1.4           0.2\n",
      "1              4.9           3.0            1.4           0.2\n",
      "2              4.7           3.2            1.3           0.2\n",
      "3              4.6           3.1            1.5           0.2\n",
      "4              5.0           3.6            1.4           0.2\n",
      "..             ...           ...            ...           ...\n",
      "145            6.7           3.0            5.2           2.3\n",
      "146            6.3           2.5            5.0           1.9\n",
      "147            6.5           3.0            5.2           2.0\n",
      "148            6.2           3.4            5.4           2.3\n",
      "149            5.9           3.0            5.1           1.8\n",
      "\n",
      "[150 rows x 4 columns]\n",
      "0         Iris-setosa\n",
      "1         Iris-setosa\n",
      "2         Iris-setosa\n",
      "3         Iris-setosa\n",
      "4         Iris-setosa\n",
      "            ...      \n",
      "145    Iris-virginica\n",
      "146    Iris-virginica\n",
      "147    Iris-virginica\n",
      "148    Iris-virginica\n",
      "149    Iris-virginica\n",
      "Name: Species, Length: 150, dtype: object\n"
     ]
    }
   ],
   "source": [
    "# Verifying the split\n",
    "print(x)\n",
    "print(y)"
   ]
  },
  {
   "cell_type": "markdown",
   "metadata": {},
   "source": [
    "#### <b>Splitting the dataset into Train and Test"
   ]
  },
  {
   "cell_type": "code",
   "execution_count": 7,
   "metadata": {},
   "outputs": [
    {
     "name": "stdout",
     "output_type": "stream",
     "text": [
      "xtrain shape :  (120, 4)\n",
      "xtest shape  :  (30, 4)\n",
      "ytrain shape :  (120,)\n",
      "ytest shape  :  (30,)\n"
     ]
    }
   ],
   "source": [
    "# splitting the dataset into training and testing\n",
    "\n",
    "from sklearn.model_selection import train_test_split\n",
    "\n",
    "# split the training and testing dataset in 80%:20% ratio\n",
    "# to ensure consistency assing any value to random_state\n",
    "xtrain, xtest, ytrain, ytest = train_test_split(x, y, test_size=0.2, random_state=5)\n",
    "\n",
    "# To know the shape of the train and test dataset\n",
    "print(\"xtrain shape : \", xtrain.shape)\n",
    "print(\"xtest shape  : \", xtest.shape)\n",
    "print(\"ytrain shape : \", ytrain.shape)\n",
    "print(\"ytest shape  : \", ytest.shape)"
   ]
  },
  {
   "cell_type": "markdown",
   "metadata": {},
   "source": [
    "### <b> Step 5: Training the model"
   ]
  },
  {
   "cell_type": "markdown",
   "metadata": {},
   "source": [
    "We will use GaussianNB model from sklearn and fit our model in it"
   ]
  },
  {
   "cell_type": "code",
   "execution_count": 8,
   "metadata": {},
   "outputs": [
    {
     "data": {
      "text/plain": [
       "GaussianNB()"
      ]
     },
     "execution_count": 8,
     "metadata": {},
     "output_type": "execute_result"
    }
   ],
   "source": [
    "from sklearn.naive_bayes import GaussianNB\n",
    "\n",
    "model = GaussianNB()\n",
    "\n",
    "# Fitting GaussianNB model to training model\n",
    "model.fit(xtrain, ytrain)"
   ]
  },
  {
   "cell_type": "markdown",
   "metadata": {},
   "source": [
    "### <b> Step 6: Predicting the Test set results"
   ]
  },
  {
   "cell_type": "markdown",
   "metadata": {},
   "source": [
    "Once the model is trained, we use the the model.predict() to predict the values for the Test set and the values predicted are stored to the variable ypred."
   ]
  },
  {
   "cell_type": "code",
   "execution_count": 9,
   "metadata": {},
   "outputs": [
    {
     "data": {
      "text/plain": [
       "array(['Iris-versicolor', 'Iris-versicolor', 'Iris-virginica',\n",
       "       'Iris-setosa', 'Iris-virginica', 'Iris-versicolor', 'Iris-setosa',\n",
       "       'Iris-virginica', 'Iris-setosa', 'Iris-versicolor',\n",
       "       'Iris-versicolor', 'Iris-versicolor', 'Iris-virginica',\n",
       "       'Iris-virginica', 'Iris-setosa', 'Iris-setosa', 'Iris-virginica',\n",
       "       'Iris-virginica', 'Iris-setosa', 'Iris-setosa', 'Iris-versicolor',\n",
       "       'Iris-virginica', 'Iris-setosa', 'Iris-versicolor',\n",
       "       'Iris-versicolor', 'Iris-virginica', 'Iris-versicolor',\n",
       "       'Iris-versicolor', 'Iris-versicolor', 'Iris-virginica'],\n",
       "      dtype='<U15')"
      ]
     },
     "execution_count": 9,
     "metadata": {},
     "output_type": "execute_result"
    }
   ],
   "source": [
    "# Predicting the test set results\n",
    "ypred = model.predict(xtest) \n",
    "ypred"
   ]
  },
  {
   "cell_type": "markdown",
   "metadata": {},
   "source": [
    "### <b> Step 7: Evaluating the model"
   ]
  },
  {
   "cell_type": "markdown",
   "metadata": {},
   "source": [
    "Now we see the Accuracy of the trained model and plot the confusion matrix.<br>\n",
    "The confusion matrix is a table that is used to show the number of correct and incorrect predictions on a classification problem when the real values of the Test Set are known."
   ]
  },
  {
   "cell_type": "code",
   "execution_count": 10,
   "metadata": {},
   "outputs": [
    {
     "name": "stdout",
     "output_type": "stream",
     "text": [
      "Accuracy :  0.9\n",
      "Confusion Matrix: \n",
      "             setosa  versicolor  virgina\n",
      "setosa           8           0        0\n",
      "versicolor       0          10        1\n",
      "virgina          0           2        9\n"
     ]
    }
   ],
   "source": [
    "# Accuracy\n",
    "from sklearn.metrics import accuracy_score\n",
    "accuracy = accuracy_score(ytest, ypred)\n",
    "print ('Accuracy : ', accuracy)\n",
    "\n",
    "# Confusion matrix\n",
    "from sklearn.metrics import confusion_matrix\n",
    "cm = confusion_matrix(ytest, ypred)\n",
    "\n",
    "# print('Confusion Matrix: ''\\n', cm) (Print Directly)\n",
    "# OR make a dataframe\n",
    "cm = pd.DataFrame(cm, index = ['setosa','versicolor','virgina'], columns = ['setosa','versicolor','virgina'])\n",
    "print('Confusion Matrix: ''\\n', cm)"
   ]
  },
  {
   "cell_type": "markdown",
   "metadata": {},
   "source": [
    "From the above confusion matrix, we infer that, out of 30 test set data, 27 were correctly classified and only 3 were incorrectly classified. This gives us a high accuracy of 90%."
   ]
  },
  {
   "cell_type": "markdown",
   "metadata": {},
   "source": [
    "### <b> Visualizing the Confusion Matrix"
   ]
  },
  {
   "cell_type": "code",
   "execution_count": 11,
   "metadata": {},
   "outputs": [
    {
     "data": {
      "image/png": "[encoded data removed]",
      "text/plain": [
       "<Figure size 720x576 with 1 Axes>"
      ]
     },
     "metadata": {
      "needs_background": "light"
     },
     "output_type": "display_data"
    }
   ],
   "source": [
    "#Plotting the confusion matrix\n",
    "plt.figure(figsize=(10,8))\n",
    "sns.heatmap(cm, annot=True, cbar=False)\n",
    "plt.ylabel('ACTUAL VALUES')\n",
    "plt.xlabel('PREDICTED VALUES')\n",
    "plt.show()"
   ]
  },
  {
   "cell_type": "markdown",
   "metadata": {},
   "source": [
    "<b> From the above confusion matrix, we infer that, out of 30 test set data, 27 were correctly classified and only 3 were incorrectly classified.<br>\n",
    "This gives us a high accuracy of 90%."
   ]
  },
  {
   "cell_type": "markdown",
   "metadata": {},
   "source": [
    "### <b> Step 8: Comparing the Real Values with Predicted Values"
   ]
  },
  {
   "cell_type": "markdown",
   "metadata": {},
   "source": [
    "We create a dataframe of both testing and predicted."
   ]
  },
  {
   "cell_type": "code",
   "execution_count": 12,
   "metadata": {},
   "outputs": [
    {
     "data": {
      "text/html": [
       "<style type=\"text/css\">\n",
       "</style>\n",
       "<table id=\"T_debcc_\">\n",
       "  <thead>\n",
       "    <tr>\n",
       "      <th class=\"col_heading level0 col0\" >Real Values</th>\n",
       "      <th class=\"col_heading level0 col1\" >Predicted Values</th>\n",
       "    </tr>\n",
       "  </thead>\n",
       "  <tbody>\n",
       "    <tr>\n",
       "      <td id=\"T_debcc_row0_col0\" class=\"data row0 col0\" >Iris-versicolor</td>\n",
       "      <td id=\"T_debcc_row0_col1\" class=\"data row0 col1\" >Iris-versicolor</td>\n",
       "    </tr>\n",
       "    <tr>\n",
       "      <td id=\"T_debcc_row1_col0\" class=\"data row1 col0\" >Iris-virginica</td>\n",
       "      <td id=\"T_debcc_row1_col1\" class=\"data row1 col1\" >Iris-versicolor</td>\n",
       "    </tr>\n",
       "    <tr>\n",
       "      <td id=\"T_debcc_row2_col0\" class=\"data row2 col0\" >Iris-virginica</td>\n",
       "      <td id=\"T_debcc_row2_col1\" class=\"data row2 col1\" >Iris-virginica</td>\n",
       "    </tr>\n",
       "    <tr>\n",
       "      <td id=\"T_debcc_row3_col0\" class=\"data row3 col0\" >Iris-setosa</td>\n",
       "      <td id=\"T_debcc_row3_col1\" class=\"data row3 col1\" >Iris-setosa</td>\n",
       "    </tr>\n",
       "    <tr>\n",
       "      <td id=\"T_debcc_row4_col0\" class=\"data row4 col0\" >Iris-virginica</td>\n",
       "      <td id=\"T_debcc_row4_col1\" class=\"data row4 col1\" >Iris-virginica</td>\n",
       "    </tr>\n",
       "    <tr>\n",
       "      <td id=\"T_debcc_row5_col0\" class=\"data row5 col0\" >Iris-versicolor</td>\n",
       "      <td id=\"T_debcc_row5_col1\" class=\"data row5 col1\" >Iris-versicolor</td>\n",
       "    </tr>\n",
       "    <tr>\n",
       "      <td id=\"T_debcc_row6_col0\" class=\"data row6 col0\" >Iris-setosa</td>\n",
       "      <td id=\"T_debcc_row6_col1\" class=\"data row6 col1\" >Iris-setosa</td>\n",
       "    </tr>\n",
       "    <tr>\n",
       "      <td id=\"T_debcc_row7_col0\" class=\"data row7 col0\" >Iris-versicolor</td>\n",
       "      <td id=\"T_debcc_row7_col1\" class=\"data row7 col1\" >Iris-virginica</td>\n",
       "    </tr>\n",
       "    <tr>\n",
       "      <td id=\"T_debcc_row8_col0\" class=\"data row8 col0\" >Iris-setosa</td>\n",
       "      <td id=\"T_debcc_row8_col1\" class=\"data row8 col1\" >Iris-setosa</td>\n",
       "    </tr>\n",
       "    <tr>\n",
       "      <td id=\"T_debcc_row9_col0\" class=\"data row9 col0\" >Iris-versicolor</td>\n",
       "      <td id=\"T_debcc_row9_col1\" class=\"data row9 col1\" >Iris-versicolor</td>\n",
       "    </tr>\n",
       "    <tr>\n",
       "      <td id=\"T_debcc_row10_col0\" class=\"data row10 col0\" >Iris-versicolor</td>\n",
       "      <td id=\"T_debcc_row10_col1\" class=\"data row10 col1\" >Iris-versicolor</td>\n",
       "    </tr>\n",
       "    <tr>\n",
       "      <td id=\"T_debcc_row11_col0\" class=\"data row11 col0\" >Iris-virginica</td>\n",
       "      <td id=\"T_debcc_row11_col1\" class=\"data row11 col1\" >Iris-versicolor</td>\n",
       "    </tr>\n",
       "    <tr>\n",
       "      <td id=\"T_debcc_row12_col0\" class=\"data row12 col0\" >Iris-virginica</td>\n",
       "      <td id=\"T_debcc_row12_col1\" class=\"data row12 col1\" >Iris-virginica</td>\n",
       "    </tr>\n",
       "    <tr>\n",
       "      <td id=\"T_debcc_row13_col0\" class=\"data row13 col0\" >Iris-virginica</td>\n",
       "      <td id=\"T_debcc_row13_col1\" class=\"data row13 col1\" >Iris-virginica</td>\n",
       "    </tr>\n",
       "    <tr>\n",
       "      <td id=\"T_debcc_row14_col0\" class=\"data row14 col0\" >Iris-setosa</td>\n",
       "      <td id=\"T_debcc_row14_col1\" class=\"data row14 col1\" >Iris-setosa</td>\n",
       "    </tr>\n",
       "    <tr>\n",
       "      <td id=\"T_debcc_row15_col0\" class=\"data row15 col0\" >Iris-setosa</td>\n",
       "      <td id=\"T_debcc_row15_col1\" class=\"data row15 col1\" >Iris-setosa</td>\n",
       "    </tr>\n",
       "    <tr>\n",
       "      <td id=\"T_debcc_row16_col0\" class=\"data row16 col0\" >Iris-virginica</td>\n",
       "      <td id=\"T_debcc_row16_col1\" class=\"data row16 col1\" >Iris-virginica</td>\n",
       "    </tr>\n",
       "    <tr>\n",
       "      <td id=\"T_debcc_row17_col0\" class=\"data row17 col0\" >Iris-virginica</td>\n",
       "      <td id=\"T_debcc_row17_col1\" class=\"data row17 col1\" >Iris-virginica</td>\n",
       "    </tr>\n",
       "    <tr>\n",
       "      <td id=\"T_debcc_row18_col0\" class=\"data row18 col0\" >Iris-setosa</td>\n",
       "      <td id=\"T_debcc_row18_col1\" class=\"data row18 col1\" >Iris-setosa</td>\n",
       "    </tr>\n",
       "    <tr>\n",
       "      <td id=\"T_debcc_row19_col0\" class=\"data row19 col0\" >Iris-setosa</td>\n",
       "      <td id=\"T_debcc_row19_col1\" class=\"data row19 col1\" >Iris-setosa</td>\n",
       "    </tr>\n",
       "    <tr>\n",
       "      <td id=\"T_debcc_row20_col0\" class=\"data row20 col0\" >Iris-versicolor</td>\n",
       "      <td id=\"T_debcc_row20_col1\" class=\"data row20 col1\" >Iris-versicolor</td>\n",
       "    </tr>\n",
       "    <tr>\n",
       "      <td id=\"T_debcc_row21_col0\" class=\"data row21 col0\" >Iris-virginica</td>\n",
       "      <td id=\"T_debcc_row21_col1\" class=\"data row21 col1\" >Iris-virginica</td>\n",
       "    </tr>\n",
       "    <tr>\n",
       "      <td id=\"T_debcc_row22_col0\" class=\"data row22 col0\" >Iris-setosa</td>\n",
       "      <td id=\"T_debcc_row22_col1\" class=\"data row22 col1\" >Iris-setosa</td>\n",
       "    </tr>\n",
       "    <tr>\n",
       "      <td id=\"T_debcc_row23_col0\" class=\"data row23 col0\" >Iris-versicolor</td>\n",
       "      <td id=\"T_debcc_row23_col1\" class=\"data row23 col1\" >Iris-versicolor</td>\n",
       "    </tr>\n",
       "    <tr>\n",
       "      <td id=\"T_debcc_row24_col0\" class=\"data row24 col0\" >Iris-versicolor</td>\n",
       "      <td id=\"T_debcc_row24_col1\" class=\"data row24 col1\" >Iris-versicolor</td>\n",
       "    </tr>\n",
       "    <tr>\n",
       "      <td id=\"T_debcc_row25_col0\" class=\"data row25 col0\" >Iris-virginica</td>\n",
       "      <td id=\"T_debcc_row25_col1\" class=\"data row25 col1\" >Iris-virginica</td>\n",
       "    </tr>\n",
       "    <tr>\n",
       "      <td id=\"T_debcc_row26_col0\" class=\"data row26 col0\" >Iris-versicolor</td>\n",
       "      <td id=\"T_debcc_row26_col1\" class=\"data row26 col1\" >Iris-versicolor</td>\n",
       "    </tr>\n",
       "    <tr>\n",
       "      <td id=\"T_debcc_row27_col0\" class=\"data row27 col0\" >Iris-versicolor</td>\n",
       "      <td id=\"T_debcc_row27_col1\" class=\"data row27 col1\" >Iris-versicolor</td>\n",
       "    </tr>\n",
       "    <tr>\n",
       "      <td id=\"T_debcc_row28_col0\" class=\"data row28 col0\" >Iris-versicolor</td>\n",
       "      <td id=\"T_debcc_row28_col1\" class=\"data row28 col1\" >Iris-versicolor</td>\n",
       "    </tr>\n",
       "    <tr>\n",
       "      <td id=\"T_debcc_row29_col0\" class=\"data row29 col0\" >Iris-virginica</td>\n",
       "      <td id=\"T_debcc_row29_col1\" class=\"data row29 col1\" >Iris-virginica</td>\n",
       "    </tr>\n",
       "  </tbody>\n",
       "</table>\n"
      ],
      "text/plain": [
       "<pandas.io.formats.style.Styler at 0x1f0d6f4b9d0>"
      ]
     },
     "execution_count": 12,
     "metadata": {},
     "output_type": "execute_result"
    }
   ],
   "source": [
    "df = pd.DataFrame({'Real Values':ytest, 'Predicted Values':ypred})\n",
    "df.style.hide_index()"
   ]
  }
 ],
 "metadata": {
  "kernelspec": {
   "display_name": "Python 3.9.7 ('base')",
   "language": "python",
   "name": "python3"
  },
  "language_info": {
   "codemirror_mode": {
    "name": "ipython",
    "version": 3
   },
   "file_extension": ".py",
   "mimetype": "text/x-python",
   "name": "python",
   "nbconvert_exporter": "python",
   "pygments_lexer": "ipython3",
   "version": "3.9.7"
  },
  "orig_nbformat": 4,
  "vscode": {
   "interpreter": {
    "hash": "c79b7ad1551a3a1301c544711332fa021a07e83fcacf5ad63ca5d8fc456c0c33"
   }
  }
 },
 "nbformat": 4,
 "nbformat_minor": 2
}
